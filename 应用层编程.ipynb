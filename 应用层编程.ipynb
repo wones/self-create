{
 "cells": [
  {
   "cell_type": "markdown",
   "metadata": {},
   "source": [
    "# 1.UDP编程"
   ]
  },
  {
   "cell_type": "code",
   "execution_count": null,
   "metadata": {},
   "outputs": [
    {
     "name": "stdout",
     "output_type": "stream",
     "text": [
      "The server is ready to receive\n",
      "('192.168.0.105', 43391)\n"
     ]
    }
   ],
   "source": [
    "#UDPServer\n",
    "from socket import *\n",
    "serverPort=12000\n",
    "serverSocket=socket(AF_INET,SOCK_DGRAM)\n",
    "serverSocket.bind(('',serverPort))\n",
    "print('The server is ready to receive')\n",
    "while True:\n",
    "    message,clientAddress=serverSocket.recvfrom(2048)\n",
    "    modifiedMessage=str(len(message.decode()))\n",
    "    serverSocket.sendto(modifiedMessage.encode(),clientAddress)\n",
    "    print(clientAddress)"
   ]
  },
  {
   "cell_type": "markdown",
   "metadata": {},
   "source": [
    "# 2.TCP编程"
   ]
  },
  {
   "cell_type": "code",
   "execution_count": null,
   "metadata": {},
   "outputs": [
    {
     "name": "stdout",
     "output_type": "stream",
     "text": [
      "the tcp server is ready to receive\n"
     ]
    }
   ],
   "source": [
    "#TCPServer\n",
    "from socket import *\n",
    "serverPort=12001\n",
    "serverSocket=socket(AF_INET,SOCK_STREAM)\n",
    "serverSocket.bind(('',serverPort))\n",
    "serverSocket.listen(1)\n",
    "print('the tcp server is ready to receive')\n",
    "while True:\n",
    "    connectionSocket,addr=serverSocket.accept()\n",
    "    sentence=connectionSocket.recv(1024).decode()\n",
    "    capsent=sentence.upper()\n",
    "    connectionSocket.send(capsent.encode())\n",
    "    connectionSocket.close()"
   ]
  }
 ],
 "metadata": {
  "kernelspec": {
   "display_name": "Python 3",
   "language": "python",
   "name": "python3"
  },
  "language_info": {
   "codemirror_mode": {
    "name": "ipython",
    "version": 3
   },
   "file_extension": ".py",
   "mimetype": "text/x-python",
   "name": "python",
   "nbconvert_exporter": "python",
   "pygments_lexer": "ipython3",
   "version": "3.9.0"
  }
 },
 "nbformat": 4,
 "nbformat_minor": 4
}
